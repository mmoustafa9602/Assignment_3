{
 "cells": [
  {
   "cell_type": "code",
   "execution_count": null,
   "id": "38829cab-a9d8-4a87-8a19-43f5961ca26d",
   "metadata": {},
   "outputs": [],
   "source": [
    "Assignment #3"
   ]
  },
  {
   "cell_type": "code",
   "execution_count": 3,
   "id": "58d09521-bebb-4ba9-a7c7-614a704bb7a1",
   "metadata": {},
   "outputs": [
    {
     "name": "stdout",
     "output_type": "stream",
     "text": [
      "[0, 1]\n"
     ]
    }
   ],
   "source": [
    "def fibonacci(i):\n",
    "    b=[0,1]\n",
    "    x=0\n",
    "    while x<i:\n",
    "        c=b[len(b)-1]+b[len(b)-2]\n",
    "        b.append(c)\n",
    "        x+=1\n",
    "    print(b)\n",
    "\n",
    "            \n",
    "fibonacci(0)"
   ]
  },
  {
   "cell_type": "code",
   "execution_count": 53,
   "id": "40a57273-c8bb-4f3a-bfd8-6ae19f307078",
   "metadata": {},
   "outputs": [
    {
     "name": "stdout",
     "output_type": "stream",
     "text": [
      "The unique words are ['mahmoud', 'kamel', 'mostafa', 'ibrahiem', 'khaled'] and their count are [1, 3, 2, 1, 3]\n"
     ]
    }
   ],
   "source": [
    "Words=['mahmoud','mostafa','kamel','mostafa','kamel','kamel','khaled','khaled','khaled','ibrahiem']\n",
    "unique = list(set(Words))\n",
    "Count=[] \n",
    "for i in range(len(unique)):\n",
    "    Count.append(Words.count(unique[i]))\n",
    "print(f'The unique words are {unique} and their count are {Count}')"
   ]
  },
  {
   "cell_type": "code",
   "execution_count": 8,
   "id": "193012e9-3460-4948-bac0-b59db77d63de",
   "metadata": {},
   "outputs": [
    {
     "name": "stdin",
     "output_type": "stream",
     "text": [
      "Please Enter the limit value=  12\n",
      "Please Enter the number of the values=  4\n"
     ]
    },
    {
     "name": "stdout",
     "output_type": "stream",
     "text": [
      "Please Start intering the values\n"
     ]
    },
    {
     "name": "stdin",
     "output_type": "stream",
     "text": [
      "1-  7\n",
      "2-  5\n",
      "3-  112\n",
      "4-  -100\n"
     ]
    },
    {
     "name": "stdout",
     "output_type": "stream",
     "text": [
      "the List are: [7, 5, 112, -100]\n",
      "[(7, 5), (5, 7), (112, -100), (-100, 112)]\n"
     ]
    }
   ],
   "source": [
    "Limit=int(input('Please Enter the limit value= '))\n",
    "Max_numbers=int(input('Please Enter the number of the values= '))\n",
    "print('Please Start intering the values')\n",
    "list=[]\n",
    "pair=[]\n",
    "for i in range(Max_numbers):\n",
    "    a=int(input(f'{i+1}- '))\n",
    "    list.append(a)\n",
    "print(f'the List are: {list}')\n",
    "for i in range(Max_numbers):\n",
    "    for j in range(Max_numbers):\n",
    "        if (list[i]+list[j])==Limit and (i != j):\n",
    "            p=(list[i],list[j])\n",
    "            pair.append(p)\n",
    "            \n",
    "print(pair)            \n",
    "\n",
    "            "
   ]
  },
  {
   "cell_type": "code",
   "execution_count": null,
   "id": "03d4b6e7-8db3-4086-a579-17e9f9c3ea67",
   "metadata": {},
   "outputs": [],
   "source": []
  },
  {
   "cell_type": "code",
   "execution_count": 67,
   "id": "899a3369-22d6-4fc5-acf7-d0f9ab82a9a9",
   "metadata": {},
   "outputs": [
    {
     "name": "stdin",
     "output_type": "stream",
     "text": [
      "Please Enter the number of the values=  5\n"
     ]
    },
    {
     "name": "stdout",
     "output_type": "stream",
     "text": [
      "Please Start intering the values\n"
     ]
    },
    {
     "name": "stdin",
     "output_type": "stream",
     "text": [
      "1-  2\n",
      "2-  3\n",
      "3-  4\n",
      "4-  5\n",
      "5-  2\n"
     ]
    },
    {
     "name": "stdout",
     "output_type": "stream",
     "text": [
      "the List are: [2, 3, 4, 5, 2]\n",
      "The maximum product comes from (4, 5) , with product equals 20\n"
     ]
    }
   ],
   "source": [
    "Max_numbers=int(input('Please Enter the number of the values= '))\n",
    "print('Please Start intering the values')\n",
    "list=[]\n",
    "for i in range(Max_numbers):\n",
    "    a=int(input(f'{i+1}- '))\n",
    "    list.append(a)\n",
    "print(f'the List are: {list}')\n",
    "product=0\n",
    "for i in range(Max_numbers):\n",
    "    for j in range(Max_numbers):\n",
    "            if list[i]*list[j]>product and i != j:\n",
    "                product=list[i]*list[j]\n",
    "                pair=(list[i],list[j])                   \n",
    "print(f'The maximum product comes from {pair} , with product equals {product}')  \n"
   ]
  },
  {
   "cell_type": "code",
   "execution_count": 66,
   "id": "2803c0d0-f0cc-4770-9e5d-1e569f6bf68b",
   "metadata": {},
   "outputs": [
    {
     "name": "stdout",
     "output_type": "stream",
     "text": [
      "29 is a prime number\n"
     ]
    }
   ],
   "source": [
    "\n",
    "def prime(x):\n",
    "    f=1\n",
    "    i=2\n",
    "    while i<x:\n",
    "        if x%i ==0:\n",
    "            f=0\n",
    "            break\n",
    "        i+=1\n",
    "    if f == 1:\n",
    "        print (f'{x} is a prime number')\n",
    "    else:\n",
    "        print (f'{x} is not prime number') \n",
    "\n",
    "\n",
    "prime(29)  \n"
   ]
  },
  {
   "cell_type": "code",
   "execution_count": 71,
   "id": "dd43390c-8b5b-460d-817e-59ea46238f26",
   "metadata": {},
   "outputs": [
    {
     "name": "stdout",
     "output_type": "stream",
     "text": [
      "The even numbers from the list are [20, 54, 6, 4, 6, 8, 60]\n"
     ]
    }
   ],
   "source": [
    "def Even(x):\n",
    "    Even=[]\n",
    "    for i in range(len(x)):\n",
    "        if x[i]%2==0:\n",
    "            Even.append(x[i])\n",
    "    print(f'The even numbers from the list are {Even}')  \n",
    "Even([1,20,3,54,6,4,65,6,8,9,60,3])"
   ]
  },
  {
   "cell_type": "code",
   "execution_count": 106,
   "id": "d2922f0c-7bf7-4bd6-ac91-f63c4d7deeb4",
   "metadata": {},
   "outputs": [
    {
     "name": "stdout",
     "output_type": "stream",
     "text": [
      "mahmoud kamel Mostafa Mamoud\n"
     ]
    }
   ],
   "source": [
    "def revers(x):\n",
    "    list=x.split()\n",
    "    list.reverse()\n",
    "    print(' '.join(list))\n",
    "\n",
    "revers('Mamoud Mostafa kamel mahmoud')\n"
   ]
  },
  {
   "cell_type": "code",
   "execution_count": 41,
   "id": "8d7e16f9-99d1-4afc-91c2-0f3c468bedc0",
   "metadata": {},
   "outputs": [
    {
     "name": "stdout",
     "output_type": "stream",
     "text": [
      " True 123454321 is palindrome\n"
     ]
    }
   ],
   "source": [
    " def palindrome_i(x):\n",
    "    Sting_X=str(x)\n",
    "    List_string_X=list(Sting_X)\n",
    "    List_string_X.reverse()\n",
    "    Rev=''.join(List_string_X)\n",
    "    if int(Rev) == int(x):\n",
    "        print(f' True {x} is palindrome')\n",
    "    else:\n",
    "        print(f' False {x} is not palindrome')\n",
    "palindrome_i(123454321)  "
   ]
  },
  {
   "cell_type": "code",
   "execution_count": 40,
   "id": "a797c9c9-9045-46db-8cf4-e837c16badfe",
   "metadata": {},
   "outputs": [
    {
     "name": "stdout",
     "output_type": "stream",
     "text": [
      " True KAK is palindrome\n"
     ]
    }
   ],
   "source": [
    " def palindrome_S(x):\n",
    "    List_string_X=list(x)\n",
    "    List_string_X.reverse()\n",
    "    Rev=''.join(List_string_X)\n",
    "    set={Rev,x}\n",
    "    if len(set) == 1:\n",
    "        print(f' True {x} is palindrome')\n",
    "    else:\n",
    "        print(f' False {x} is not palindrome')\n",
    "palindrome_S('KAK')"
   ]
  },
  {
   "cell_type": "code",
   "execution_count": 54,
   "id": "541adb5f-b483-4caf-84dd-7ba5777835cd",
   "metadata": {},
   "outputs": [
    {
     "data": {
      "text/plain": [
       "[1,\n",
       " 4,\n",
       " 27,\n",
       " 256,\n",
       " 3125,\n",
       " 46656,\n",
       " 823543,\n",
       " 16777216,\n",
       " 387420489,\n",
       " 10000000000,\n",
       " 285311670611,\n",
       " 8916100448256,\n",
       " 302875106592253,\n",
       " 11112006825558016,\n",
       " 437893890380859375,\n",
       " 18446744073709551616,\n",
       " 827240261886336764177,\n",
       " 39346408075296537575424,\n",
       " 1978419655660313589123979,\n",
       " 104857600000000000000000000,\n",
       " 5842587018385982521381124421,\n",
       " 341427877364219557396646723584,\n",
       " 20880467999847912034355032910567,\n",
       " 1333735776850284124449081472843776,\n",
       " 88817841970012523233890533447265625,\n",
       " 6156119580207157310796674288400203776,\n",
       " 443426488243037769948249630619149892803,\n",
       " 33145523113253374862572728253364605812736,\n",
       " 2567686153161211134561828214731016126483469,\n",
       " 205891132094649000000000000000000000000000000]"
      ]
     },
     "execution_count": 54,
     "metadata": {},
     "output_type": "execute_result"
    }
   ],
   "source": [
    "def Squares():\n",
    "    lst=[]\n",
    "    for i in range(1,31):\n",
    "        lst.append(i**i)\n",
    "    return lst\n",
    "Squares()   "
   ]
  },
  {
   "cell_type": "code",
   "execution_count": 9,
   "id": "5273831b-50de-447f-964f-6480d0bc952b",
   "metadata": {},
   "outputs": [
    {
     "name": "stdout",
     "output_type": "stream",
     "text": [
      "[(1, 2, 3), (1, 3, 2), (2, 1, 3), (2, 3, 1), (3, 1, 2), (3, 2, 1)]\n"
     ]
    }
   ],
   "source": [
    "\n",
    "def permutations(x):\n",
    "    import itertools\n",
    "    print(list(itertools.permutations(x)))\n",
    "    \n",
    "permutations([1,2,3])"
   ]
  },
  {
   "cell_type": "code",
   "execution_count": 13,
   "id": "c3dd58d0-1c33-4b2a-bf45-3c9a90f3ddc5",
   "metadata": {},
   "outputs": [
    {
     "data": {
      "text/plain": [
       "(15, 50)"
      ]
     },
     "execution_count": 13,
     "metadata": {},
     "output_type": "execute_result"
    }
   ],
   "source": [
    "def out(a):\n",
    "    def inn(b):\n",
    "        sum=a+b\n",
    "        mult=a*b\n",
    "        return sum,mult\n",
    "    return inn\n",
    "d=out(5)\n",
    "d(10)"
   ]
  }
 ],
 "metadata": {
  "kernelspec": {
   "display_name": "Python 3 (ipykernel)",
   "language": "python",
   "name": "python3"
  },
  "language_info": {
   "codemirror_mode": {
    "name": "ipython",
    "version": 3
   },
   "file_extension": ".py",
   "mimetype": "text/x-python",
   "name": "python",
   "nbconvert_exporter": "python",
   "pygments_lexer": "ipython3",
   "version": "3.11.7"
  }
 },
 "nbformat": 4,
 "nbformat_minor": 5
}
